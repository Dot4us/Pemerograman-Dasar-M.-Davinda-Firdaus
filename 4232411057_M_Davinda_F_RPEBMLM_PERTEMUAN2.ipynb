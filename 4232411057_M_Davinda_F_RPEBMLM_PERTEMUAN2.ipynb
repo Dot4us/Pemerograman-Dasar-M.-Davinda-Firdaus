{
  "nbformat": 4,
  "nbformat_minor": 0,
  "metadata": {
    "colab": {
      "provenance": [],
      "authorship_tag": "ABX9TyPtjpP8O/7UIagnykvdZwdq",
      "include_colab_link": true
    },
    "kernelspec": {
      "name": "python3",
      "display_name": "Python 3"
    },
    "language_info": {
      "name": "python"
    }
  },
  "cells": [
    {
      "cell_type": "markdown",
      "metadata": {
        "id": "view-in-github",
        "colab_type": "text"
      },
      "source": [
        "<a href=\"https://colab.research.google.com/github/Dot4us/Pemerograman-Dasar-M.-Davinda-Firdaus/blob/main/4232411057_M_Davinda_F_RPEBMLM_PERTEMUAN2.ipynb\" target=\"_parent\"><img src=\"https://colab.research.google.com/assets/colab-badge.svg\" alt=\"Open In Colab\"/></a>"
      ]
    },
    {
      "cell_type": "code",
      "source": [
        "\"\"\"\n",
        "TODO:\n",
        "Buatlah variabel firstName, lastName, age, isMarried dengan ketentuan:\n",
        "firstName: isi dengan nama depan Anda bertipe data string.\n",
        "lastName: isi dengan nama belakang Anda bertipe data string.\n",
        "age: isi dengan umur Anda bertipe data integer.\n",
        "isMarried: isi dengan status pernikahan Anda bertipe data boolean.\n",
        "\n",
        "Catatan: Value variabel harus berupa nilai sesungguhnya (literal) seperti string,\n",
        "bilangan bulat (integer), dan boolean (benar atau salah).\n",
        "\"\"\"\n",
        "\n",
        "#TODO:\n",
        "\n",
        "firstName = \"Muhammad\"   #String\n",
        "lastName  = \"Firdaus\"    #String\n",
        "age       = 20           #Integer\n",
        "isMarried = False        #Boolean\n",
        "\n",
        "print(\"First Name:\" ,firstName)\n",
        "print(\"Last Name :\"  ,lastName)\n",
        "print(\"Age       :\"        ,age)\n",
        "print(\"Is Married:\" ,isMarried)\n"
      ],
      "metadata": {
        "colab": {
          "base_uri": "https://localhost:8080/"
        },
        "id": "SGM2nGR0iVdS",
        "outputId": "b396da75-afb4-4e30-e092-fb1aaf491749"
      },
      "execution_count": 21,
      "outputs": [
        {
          "output_type": "stream",
          "name": "stdout",
          "text": [
            "First Name: Muhammad\n",
            "Last Name : Firdaus\n",
            "Age       : 20\n",
            "Is Married: False\n"
          ]
        }
      ]
    },
    {
      "cell_type": "code",
      "source": [
        "\"\"\"\n",
        "TODO:\n",
        "Buatlah variabel dictionary dengan nama \"data_diri\",\n",
        "variabel tersebut berisi identitas diri Anda berdasarkan ketentuan berikut.\n",
        "Memiliki key bernama \"firstName\":\n",
        "- Isi value dengan nama depan Anda, pastikan bertipe data string.\n",
        "Memiliki key bernama \"lastName\":\n",
        "- Isi value dengan nama terakhir Anda, pastikan bertipe data string.\n",
        "Memiliki key bernama \"age\":\n",
        "Isi value dengan umur Anda, pastikan bertipe data integer.\n",
        "Memiliki key bernama \"isMarried\":\n",
        "Isi value dengan status pernikahan Anda, pastikan bertipe data boolean.\n",
        "\n",
        "Catatan:\n",
        "Value pada dictionary harus berupa nilai sesungguhnya (literal) seperti string, bilangan bulat (integer), dan boolean (benar atau salah).\n",
        "\"\"\"\n",
        "\n",
        "\n",
        "#TODO:\n",
        "data_diri = {\n",
        "    \"Muhammad\": \"Muhammad\",   # String (nama depan)\n",
        "    \"Firdaus\": \"Firdaus\",     # String (nama belakang)\n",
        "    \"20\": 20,                 # Integer (umur)\n",
        "    \"isMarried\": False        # Boolean (status pernikahan)\n",
        "}\n",
        "\n",
        "print(\"=== Data Diri ===\")\n",
        "print(f\"Nama Depan    :  {data_diri['Muhammad']}\")\n",
        "print(f\"Nama Belakang :  {data_diri['Firdaus']}\")\n",
        "print(f\"Umur          :  {data_diri['20']} tahun\")\n",
        "print(f\"Status Menikah:  {'Sudah Menikah' if data_diri['isMarried'] else 'Belum Menikah'}\")"
      ],
      "metadata": {
        "colab": {
          "base_uri": "https://localhost:8080/"
        },
        "id": "TSOybus7lAsJ",
        "outputId": "55c7982d-5746-441b-ff31-e75b22f9d98e"
      },
      "execution_count": 20,
      "outputs": [
        {
          "output_type": "stream",
          "name": "stdout",
          "text": [
            "=== Data Diri ===\n",
            "Nama Depan    :  Muhammad\n",
            "Nama Belakang :  Firdaus\n",
            "Umur          :  20 tahun\n",
            "Status Menikah:  Belum Menikah\n"
          ]
        }
      ]
    },
    {
      "cell_type": "code",
      "source": [
        "\"\"\"\n",
        "TODO:\n",
        "1. Buatlah variabel inspeksi bertipe data list untuk menyimpan daftar inspeksi dengan isian sebagai berikut.\n",
        "pemahaman terhadap rencana dan desain\n",
        "ketersediaan bahan dan peralatan\n",
        "pengawasan pekerjaan.\n",
        "kualitas konstruksi\n",
        "keselamatan kerja\n",
        "koordinasi dengan pemilik proyek\n",
        "\"\"\"\n",
        "\n",
        "#Tulilah kode jawaban di bawah ini\n",
        "\n",
        "inspeksi = [\n",
        "    \"pemahaman terhadap rencana dan desain\",\n",
        "    \"ketersediaan bahan dan peralatan\",\n",
        "    \"pengawasan pekerjaan\",\n",
        "    \"kualitas konstruksi\",\n",
        "    \"keselamatan kerja\",\n",
        "    \"koordinasi dengan pemilik proyek\"\n",
        "]\n",
        "\n",
        "# Menampilkan hasil dengan print\n",
        "print(\"Daftar Inspeksi:\")\n",
        "print(\"1.\", inspeksi[0])\n",
        "print(\"2.\", inspeksi[1])\n",
        "print(\"3.\", inspeksi[2])\n",
        "print(\"4.\", inspeksi[3])\n",
        "print(\"5.\", inspeksi[4])\n",
        "print(\"6.\", inspeksi[5])\n"
      ],
      "metadata": {
        "colab": {
          "base_uri": "https://localhost:8080/"
        },
        "id": "ylelOB1fxLHd",
        "outputId": "ab168816-b5cd-4ad7-89ba-479c3af100c3"
      },
      "execution_count": 29,
      "outputs": [
        {
          "output_type": "stream",
          "name": "stdout",
          "text": [
            "Daftar Inspeksi:\n",
            "1. pemahaman terhadap rencana dan desain\n",
            "2. ketersediaan bahan dan peralatan\n",
            "3. pengawasan pekerjaan\n",
            "4. kualitas konstruksi\n",
            "5. keselamatan kerja\n",
            "6. koordinasi dengan pemilik proyek\n"
          ]
        }
      ]
    },
    {
      "cell_type": "code",
      "source": [
        "\"\"\"\n",
        "TODO:\n",
        "1. Buatlah variabel startTime bertipe data dictionary sebagai waktu datang dengan kriteria berikut.\n",
        "key \"HH\" bernilai angka 9\n",
        "- key \"mm\" bernilai angka 23\n",
        "key \"ss\" bernilai angka 57\n",
        "2. Buatlah variabel endTime bertipe data dictionary sebagai waktu pulang dengan kriteria berikut.\n",
        "key \"HH\" bernilai angka 15\n",
        "- key \"mm\" bernilai angka 25\n",
        "key \"ss\" bernilai angka 43\n",
        "\"\"\"\n",
        "\n",
        "# Tulis kode Anda di bawah ini\n",
        "\n",
        "# Waktu datang\n",
        "startTime = {\n",
        "    \"HH\": 9,\n",
        "    \"mm\": 23,\n",
        "    \"ss\": 57\n",
        "}\n",
        "\n",
        "# Waktu pulang\n",
        "endTime = {\n",
        "    \"HH\": 15,\n",
        "    \"mm\": 25,\n",
        "    \"ss\": 43\n",
        "}\n",
        "\n",
        "\n",
        "# Menampilkan dalam format jam\n",
        "print(\"Waktu Datang : {:02d}:{:02d}:{:02d}\".format(\n",
        "    startTime[\"HH\"], startTime[\"mm\"], startTime[\"ss\"]\n",
        "))\n",
        "print(\"Waktu Pulang : {:02d}:{:02d}:{:02d}\".format(\n",
        "    endTime[\"HH\"], endTime[\"mm\"], endTime[\"ss\"]\n",
        "))"
      ],
      "metadata": {
        "colab": {
          "base_uri": "https://localhost:8080/"
        },
        "id": "1a-s-wHGzTss",
        "outputId": "47012ca8-98a9-4db7-e43d-1fdfa1f2158e"
      },
      "execution_count": 40,
      "outputs": [
        {
          "output_type": "stream",
          "name": "stdout",
          "text": [
            "Waktu Datang : 09:23:57\n",
            "Waktu Pulang : 15:25:43\n"
          ]
        }
      ]
    },
    {
      "cell_type": "code",
      "source": [
        "\"\"\"\n",
        "TODO:\n",
        "#STUDI KASUS PENGGABUNGAN DAN ANALISIS KATALOG PRODUK\n",
        "#\n",
        "# Skenario: Dua pemasok memberikan katalog produk mereka dalam bentuk set. # Anda juga memiliki daftar produk yang sedang diskon dalam bentuk tuple.\n",
        "\n",
        "# Tugas:\n",
        "#1. Gabungkan katalog_A dan katalog_B menjadi satu set bernama katalog_lengkap yang berisi semua produk unik.\n",
        "#\n",
        "#2. Cari produk mana saja dari katalog_lengkap yang juga ada di\n",
        "#\n",
        "produk_diskon. Simpan hasilnya dalam variabel produk_promo_aktif.\n",
        "#\n",
        "(Gunakan operasi intersection pada set).\n",
        "\"\"\"\n",
        "\n",
        "\n",
        "# Cetak hasil dalam bentuk list bernomor\n",
        "print(\"Katalog Lengkap:\")\n",
        "for i, item in enumerate(katalog_lengkap, start=1):\n",
        "    print(f\"{i}. {item}\")\n",
        "\n",
        "print(\"\\nProduk Diskon:\")\n",
        "for i, item in enumerate(produk_diskon, start=1):\n",
        "    print(f\"{i}. {item}\")\n",
        "\n",
        "print(\"\\nProduk Promo Aktif:\")\n",
        "for i, item in enumerate(produk_promo_aktif, start=1):\n",
        "    print(f\"{i}. {item}\")\n"
      ],
      "metadata": {
        "colab": {
          "base_uri": "https://localhost:8080/"
        },
        "id": "aYs_4yfQ4EmL",
        "outputId": "e2255c07-0a3e-401a-81ea-54d3bd51dc68"
      },
      "execution_count": 51,
      "outputs": [
        {
          "output_type": "stream",
          "name": "stdout",
          "text": [
            "Katalog Lengkap:\n",
            "1. Keyboard\n",
            "2. Monitor\n",
            "3. Printer\n",
            "4. Laptop\n",
            "5. Mouse\n",
            "6. Tablet\n",
            "\n",
            "Produk Diskon:\n",
            "1. Laptop\n",
            "2. Monitor\n",
            "3. Tablet\n",
            "\n",
            "Produk Promo Aktif:\n",
            "1. Monitor\n",
            "2. Tablet\n",
            "3. Laptop\n"
          ]
        }
      ]
    }
  ]
}