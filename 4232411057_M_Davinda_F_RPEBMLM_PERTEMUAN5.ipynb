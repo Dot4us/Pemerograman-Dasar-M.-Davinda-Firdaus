{
  "nbformat": 4,
  "nbformat_minor": 0,
  "metadata": {
    "colab": {
      "provenance": [],
      "authorship_tag": "ABX9TyOaQg278iSb8r0zMWqMr4kp",
      "include_colab_link": true
    },
    "kernelspec": {
      "name": "python3",
      "display_name": "Python 3"
    },
    "language_info": {
      "name": "python"
    }
  },
  "cells": [
    {
      "cell_type": "markdown",
      "metadata": {
        "id": "view-in-github",
        "colab_type": "text"
      },
      "source": [
        "<a href=\"https://colab.research.google.com/github/Dot4us/Pemerograman-Dasar-M.-Davinda-Firdaus/blob/main/4232411057_M_Davinda_F_RPEBMLM_PERTEMUAN5.ipynb\" target=\"_parent\"><img src=\"https://colab.research.google.com/assets/colab-badge.svg\" alt=\"Open In Colab\"/></a>"
      ]
    },
    {
      "cell_type": "code",
      "source": [
        "print(\"--- Soal 1 ---\")\n",
        "print(\"Jawaban\")\n",
        "# Mencetak bilangan genap dari 1 hingga 50\n",
        "for angka in range(2, 51, 2):\n",
        "    print(angka)"
      ],
      "metadata": {
        "colab": {
          "base_uri": "https://localhost:8080/"
        },
        "id": "X2Vz_ItDwGHi",
        "outputId": "3afc84d8-7d69-4e85-911b-95c212319106"
      },
      "execution_count": null,
      "outputs": [
        {
          "output_type": "stream",
          "name": "stdout",
          "text": [
            "--- Soal 1 ---\n",
            "Jawaban\n",
            "2\n",
            "4\n",
            "6\n",
            "8\n",
            "10\n",
            "12\n",
            "14\n",
            "16\n",
            "18\n",
            "20\n",
            "22\n",
            "24\n",
            "26\n",
            "28\n",
            "30\n",
            "32\n",
            "34\n",
            "36\n",
            "38\n",
            "40\n",
            "42\n",
            "44\n",
            "46\n",
            "48\n",
            "50\n"
          ]
        }
      ]
    },
    {
      "cell_type": "code",
      "source": [
        "print(\"--- Soal 2 (Berhenti dengan NIM) ---\")\n",
        "kode_berhenti = \"4232411057\"\n",
        "input_pengguna = \"\"\n",
        "\n",
        "while input_pengguna != kode_berhenti:\n",
        "    input_pengguna = input(\"Masukkan data (4232411057 untuk berhenti): \")\n",
        "    if not input_pengguna.isdigit():\n",
        "        print(\"Input tidak valid. Harap masukkan angka.\")\n",
        "        continue\n",
        "\n",
        "print(\"Perulangan dihentikan karena NIM dimasukkan.\")"
      ],
      "metadata": {
        "colab": {
          "base_uri": "https://localhost:8080/"
        },
        "id": "zqK_QiTux73-",
        "outputId": "2d300f37-0c0a-4e7a-aab2-250c38c064d6"
      },
      "execution_count": null,
      "outputs": [
        {
          "output_type": "stream",
          "name": "stdout",
          "text": [
            "--- Soal 2 (Berhenti dengan NIM) ---\n",
            "Masukkan data (4232411057 untuk berhenti): 4232411057\n",
            "Perulangan dihentikan karena NIM dimasukkan.\n"
          ]
        }
      ]
    },
    {
      "cell_type": "code",
      "source": [
        "print(\"--- Soal 3 (Versi Singkat) ---\")\n",
        "\n",
        "# Daftar harga minimal 10 item\n",
        "harga_barang = [15000, 25000, 10000, 5000, 20000, 12000, 8000, 30000, 7000, 18000]\n",
        "\n",
        "# Hitung total langsung pakai fungsi sum()\n",
        "total_belanja = sum(harga_barang)\n",
        "\n",
        "print(f\"Total biaya belanja adalah: {total_belanja}\")"
      ],
      "metadata": {
        "id": "MQmH3t2F34XB",
        "colab": {
          "base_uri": "https://localhost:8080/"
        },
        "outputId": "18611f14-4804-42c7-c621-52161cc92438"
      },
      "execution_count": null,
      "outputs": [
        {
          "output_type": "stream",
          "name": "stdout",
          "text": [
            "--- Soal 3 (Versi Singkat) ---\n",
            "Total biaya belanja adalah: 150000\n"
          ]
        }
      ]
    },
    {
      "cell_type": "code",
      "source": [
        "print(\"--- Soal 4 ---\")\n",
        "percobaan_maksimal = 3\n",
        "percobaan_saat_ini = 1\n",
        "\n",
        "while percobaan_saat_ini <= percobaan_maksimal:\n",
        "    print(f\"Percobaan ke-{percobaan_saat_ini}...\")\n",
        "    # Asumsi ada logika input password di sini\n",
        "    percobaan_saat_ini += 1\n",
        "\n",
        "if percobaan_saat_ini == percobaan_maksimal + 1:\n",
        "    print(\"Kesempatan habis.\")\n",
        "else:\n",
        "    print(\"Akses diterima.\")"
      ],
      "metadata": {
        "id": "lIxYsFeQ4t4E",
        "colab": {
          "base_uri": "https://localhost:8080/"
        },
        "outputId": "cf9fbdff-2272-4473-fa4f-0a056ef1ec17"
      },
      "execution_count": null,
      "outputs": [
        {
          "output_type": "stream",
          "name": "stdout",
          "text": [
            "--- Soal 4 ---\n",
            "Percobaan ke-1...\n",
            "Percobaan ke-2...\n",
            "Percobaan ke-3...\n",
            "Kesempatan habis.\n"
          ]
        }
      ]
    },
    {
      "cell_type": "code",
      "source": [
        "print(\"--- Soal 5 ---\")\n",
        "nama_proyek = \"POLITEKNIK\"\n",
        "hasil_output = \"\"\n",
        "\n",
        "for karakter in nama_proyek:\n",
        "    hasil_output += karakter + \"-\"\n",
        "\n",
        "print(hasil_output)  # Output: P-O-L-I-T-E-K-N-I-K-"
      ],
      "metadata": {
        "colab": {
          "base_uri": "https://localhost:8080/"
        },
        "id": "kipe4lP79gbU",
        "outputId": "aff4cab1-8f9e-408a-8e6d-03e68aa59f03"
      },
      "execution_count": null,
      "outputs": [
        {
          "output_type": "stream",
          "name": "stdout",
          "text": [
            "--- Soal 5 ---\n",
            "P-O-L-I-T-E-K-N-I-K-\n"
          ]
        }
      ]
    },
    {
      "cell_type": "code",
      "source": [
        "print(\"--- Soal 6 ---\")\n",
        "# Countdown dari 255 ke 1 (disingkat tampilannya)\n",
        "for i in range(255, 0, -1):\n",
        "    if i > 250 or i <= 5:  # tampilkan hanya bagian awal & akhir\n",
        "        print(i)\n",
        "    elif i == 249:\n",
        "        print(\"...\")\n",
        "        print(\"Karena Tidak Cukup Jadinya Saya Singkat Saja\")"
      ],
      "metadata": {
        "colab": {
          "base_uri": "https://localhost:8080/"
        },
        "id": "FzePA7Bz_Yef",
        "outputId": "ccdca83a-9676-4438-a51e-79459961ca40"
      },
      "execution_count": null,
      "outputs": [
        {
          "output_type": "stream",
          "name": "stdout",
          "text": [
            "--- Soal 6 ---\n",
            "255\n",
            "254\n",
            "253\n",
            "252\n",
            "251\n",
            "...\n",
            "Karena Tidak Cukup Jadinya Saya Singkat Saja\n",
            "5\n",
            "4\n",
            "3\n",
            "2\n",
            "1\n"
          ]
        }
      ]
    },
    {
      "cell_type": "code",
      "source": [
        "print(\"--- Soal 7 ---\")\n",
        "Kelurahan = [\"Kibing\", \"Tanjung Uncang\", \"Buliang\", \"Bukit Tempayan\"]\n",
        "\n",
        "for i, nama in enumerate(Kelurahan):\n",
        "    # i adalah indeks, nama adalah elemen\n",
        "    print(f\"Kelurahan ke-{i + 1}: {nama}\")"
      ],
      "metadata": {
        "colab": {
          "base_uri": "https://localhost:8080/"
        },
        "id": "h9fH4k6wAURJ",
        "outputId": "4aa82a47-131c-4307-df78-da341797c962"
      },
      "execution_count": null,
      "outputs": [
        {
          "output_type": "stream",
          "name": "stdout",
          "text": [
            "--- Soal 7 ---\n",
            "Kelurahan ke-1: Kibing\n",
            "Kelurahan ke-2: Tanjung Uncang\n",
            "Kelurahan ke-3: Buliang\n",
            "Kelurahan ke-4: Bukit Tempayan\n"
          ]
        }
      ]
    },
    {
      "cell_type": "code",
      "source": [
        "print(\"--- Soal 8 ---\")\n",
        "data_angka = [10, 20, 30, 0, 50, 60]\n",
        "\n",
        "for angka in data_angka:\n",
        "    if angka == 0:\n",
        "        break\n",
        "    print(angka)\n",
        "\n",
        "print(\"Program berhenti karena angka 0 ditemukan.\")"
      ],
      "metadata": {
        "colab": {
          "base_uri": "https://localhost:8080/"
        },
        "id": "6jfy1ju4BotD",
        "outputId": "8cd7ce6d-238a-4fe3-cdb3-f4757fe4adfe"
      },
      "execution_count": null,
      "outputs": [
        {
          "output_type": "stream",
          "name": "stdout",
          "text": [
            "--- Soal 8 ---\n",
            "10\n",
            "20\n",
            "30\n",
            "Program berhenti karena angka 0 ditemukan.\n"
          ]
        }
      ]
    },
    {
      "cell_type": "code",
      "source": [
        "print(\"--- Soal 9 ---\")\n",
        "total = 0\n",
        "bilangan = 1\n",
        "batas = 20\n",
        "\n",
        "while total < batas:\n",
        "    total += bilangan\n",
        "    bilangan += 1\n",
        "\n",
        "print(\"Total terakhir:\", total)"
      ],
      "metadata": {
        "colab": {
          "base_uri": "https://localhost:8080/"
        },
        "id": "MZFaQ6V0CGMV",
        "outputId": "a65fccc4-958c-4ff0-c830-54a8ec9df382"
      },
      "execution_count": null,
      "outputs": [
        {
          "output_type": "stream",
          "name": "stdout",
          "text": [
            "--- Soal 9 ---\n",
            "Total terakhir: 21\n"
          ]
        }
      ]
    },
    {
      "cell_type": "code",
      "source": [
        "print(\"--- Soal 10 ---\")\n",
        "jumlah_baris = 3\n",
        "\n",
        "for baris in range(jumlah_baris):\n",
        "    baris_teks = \"\"\n",
        "    for kolom in range(1):\n",
        "        baris_teks += \"Python \"\n",
        "    print(baris_teks)\n",
        "\n",
        "# Output:\n",
        "# Python\n",
        "# Python\n",
        "# Python"
      ],
      "metadata": {
        "colab": {
          "base_uri": "https://localhost:8080/"
        },
        "id": "Y6YxnPhRChsR",
        "outputId": "4d0d80f2-ea85-4cd0-95ca-96243b1aa340"
      },
      "execution_count": null,
      "outputs": [
        {
          "output_type": "stream",
          "name": "stdout",
          "text": [
            "--- Soal 10 ---\n",
            "Python \n",
            "Python \n",
            "Python \n"
          ]
        }
      ]
    }
  ]
}