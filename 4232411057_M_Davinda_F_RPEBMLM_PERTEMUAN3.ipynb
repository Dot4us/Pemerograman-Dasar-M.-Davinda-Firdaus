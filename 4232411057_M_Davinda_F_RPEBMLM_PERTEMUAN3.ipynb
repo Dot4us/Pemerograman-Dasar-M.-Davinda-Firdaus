{
  "nbformat": 4,
  "nbformat_minor": 0,
  "metadata": {
    "colab": {
      "provenance": [],
      "authorship_tag": "ABX9TyMX1MZFQMZNk6lTDViY5Q4B",
      "include_colab_link": true
    },
    "kernelspec": {
      "name": "python3",
      "display_name": "Python 3"
    },
    "language_info": {
      "name": "python"
    }
  },
  "cells": [
    {
      "cell_type": "markdown",
      "metadata": {
        "id": "view-in-github",
        "colab_type": "text"
      },
      "source": [
        "<a href=\"https://colab.research.google.com/github/Dot4us/Pemerograman-Dasar-M.-Davinda-Firdaus/blob/main/4232411057_M_Davinda_F_RPEBMLM_PERTEMUAN3.ipynb\" target=\"_parent\"><img src=\"https://colab.research.google.com/assets/colab-badge.svg\" alt=\"Open In Colab\"/></a>"
      ]
    },
    {
      "cell_type": "code",
      "execution_count": null,
      "metadata": {
        "colab": {
          "base_uri": "https://localhost:8080/"
        },
        "id": "_2GDQsPw2lff",
        "outputId": "dc1ed946-b16b-4e05-8105-810a445cdd21"
      },
      "outputs": [
        {
          "output_type": "stream",
          "name": "stdout",
          "text": [
            "Total porsi: 2.0\n",
            "Nama pelanggan: Davinda\n"
          ]
        }
      ],
      "source": [
        "total = float(2)\n",
        "Nama = str(\"Davinda\")\n",
        "\n",
        "print(\"Total porsi:\", total)\n",
        "print(\"Nama pelanggan:\", Nama)\n"
      ]
    },
    {
      "cell_type": "code",
      "source": [
        "# Data contoh\n",
        "nama   = \"Hendi\"\n",
        "makanan = \"Mi ayam bakso\"\n",
        "jumlah = 2\n",
        "harga_per_porsi = 15.5\n",
        "kode_makanan = 255\n",
        "\n",
        "# Output menggunakan berbagai format\n",
        "print(\"Nama pelanggan: %s\" % nama)                  # %s untuk string\n",
        "print(\"Memesan: %s\" % makanan)                      # %s untuk string\n",
        "print(\"Jumlah porsi: %d\" % jumlah)                  # %d untuk integer\n",
        "print(\"Harga per porsi: %.2f\" % harga_per_porsi)   # %f untuk float (2 angka desimal)\n",
        "print(\"Kode makanan (hex): %x\" % kode_makanan)      # %x untuk hexadecimal\n",
        "print(\"Kode makanan (octal): %o\" % kode_makanan)    # %o untuk octal\n"
      ],
      "metadata": {
        "colab": {
          "base_uri": "https://localhost:8080/"
        },
        "id": "mDM5BTTmPIqs",
        "outputId": "63b9843e-ac2f-4882-8c11-24eb6b7be389"
      },
      "execution_count": null,
      "outputs": [
        {
          "output_type": "stream",
          "name": "stdout",
          "text": [
            "Nama pelanggan: Hendi\n",
            "Memesan: Mi ayam bakso\n",
            "Jumlah porsi: 2\n",
            "Harga per porsi: 15.50\n",
            "Kode makanan (hex): ff\n",
            "Kode makanan (octal): 377\n"
          ]
        }
      ]
    },
    {
      "cell_type": "code",
      "source": [
        "# Konversi waktu dari total detik ke format Jam:Menit:Detik\n",
        "\n",
        "# Menerima input dari keyboard\n",
        "total_detik = int(input(\"Masukkan total detik: \"))\n",
        "\n",
        "# Menghitung jam\n",
        "jam = total_detik // 3600\n",
        "\n",
        "# Sisa detik setelah dikonversi ke jam\n",
        "sisa_detik = total_detik % 3600\n",
        "\n",
        "# Menghitung menit dari sisa detik\n",
        "menit = sisa_detik // 60\n",
        "\n",
        "# Menghitung detik yang tersisa\n",
        "detik = sisa_detik % 60\n",
        "\n",
        "# Menampilkan hasil konversi\n",
        "print(f\"Hasil Konversi: {jam} Jam, {menit} Menit, {detik} Detik\")\n"
      ],
      "metadata": {
        "colab": {
          "base_uri": "https://localhost:8080/"
        },
        "id": "hcz48aHzTXdd",
        "outputId": "fd3aa51a-914c-4c90-a22f-3b0f324f6469"
      },
      "execution_count": null,
      "outputs": [
        {
          "output_type": "stream",
          "name": "stdout",
          "text": [
            "Masukkan total detik: 358200 \n",
            "Hasil Konversi: 99 Jam, 30 Menit, 0 Detik\n"
          ]
        }
      ]
    },
    {
      "cell_type": "code",
      "source": [
        "tugas = 80\n",
        "uts = 70\n",
        "uas = 90\n",
        "nilai_akhir = (0.3 * tugas) + (0.3 * uts) + (0.4 * uas)\n",
        "print(\"Nilai akhir =\", nilai_akhir)\n",
        "\n",
        "\"\"\"\"\"\"\"\"\"\"\"\"\"\"\"\"\"\"\"\"\"\"\"\"\"\"\"\"\"\"\"\"\"\"\"\"\"\"\"\"\"\"\"\"\"\"\"\"\"\"\"\"\"\"\"\"\"\"\"\"\n",
        "\n",
        "nilai_mahasiswa = 81.0\n",
        "standar_kelulusan = 75.0\n",
        "apakah_lulus = nilai_mahasiswa >= standar_kelulusan\n",
        "perlu_remedial = nilai_mahasiswa < standar_kelulusan\n",
        "\n",
        "print(f\"Nilai Mahasiswa: {nilai_mahasiswa}\")\n",
        "print(f\"Standar Kelulusan: {standar_kelulusan}\")\n",
        "print(f\"Apakah Mahasiswa Lulus? {apakah_lulus}\")\n",
        "print(f\"Perlu Remedial? {perlu_remedial}\")\n"
      ],
      "metadata": {
        "colab": {
          "base_uri": "https://localhost:8080/"
        },
        "id": "HloIpMuBUmi8",
        "outputId": "e2ab0f21-c025-4fff-937d-18a585ba97a3"
      },
      "execution_count": null,
      "outputs": [
        {
          "output_type": "stream",
          "name": "stdout",
          "text": [
            "Nilai akhir = 81.0\n",
            "Nilai Mahasiswa: 81.0\n",
            "Standar Kelulusan: 75.0\n",
            "Apakah Mahasiswa Lulus? True\n",
            "Perlu Remedial? False\n"
          ]
        }
      ]
    },
    {
      "cell_type": "code",
      "source": [
        "belanja = 850000\n",
        "diskon = (0, 0.1 * belanja)[belanja > 500000]\n",
        "total_harga = belanja - diskon\n",
        "print(\"Total harga setelah diskon =\", total_harga)\n",
        "\n",
        "\"\"\"\"\"\"\"\"\"\"\"\"\"\"\"\"\"\"\"\"\"\"\"\"\"\"\"\"\"\"\"\"\"\"\"\"\"\"\"\"\"\"\"\"\"\"\"\"\"\"\"\"\"\"\n",
        "\n",
        "belanja = int(input(\"Masukkan total belanja: \"))\n",
        "\n",
        "if belanja > 1000000:\n",
        "    diskon = 0.35 * belanja\n",
        "elif belanja > 500000:\n",
        "    diskon = 0.10 * belanja\n",
        "else:\n",
        "    diskon = 0\n",
        "\n",
        "total_harga = belanja - diskon\n",
        "\n",
        "print(\"Total belanja =\", belanja)\n",
        "print(\"Diskon =\", diskon)\n",
        "print(\"Total harga setelah diskon =\", total_harga)\n",
        "\n"
      ],
      "metadata": {
        "colab": {
          "base_uri": "https://localhost:8080/"
        },
        "id": "_uw0fNLDegeI",
        "outputId": "b9f1626b-ec50-4ab5-f1ac-fd0d9228fc72"
      },
      "execution_count": null,
      "outputs": [
        {
          "output_type": "stream",
          "name": "stdout",
          "text": [
            "Total harga setelah diskon = 765000.0\n",
            "Masukkan total belanja: 1200000\n",
            "Total belanja = 1200000\n",
            "Diskon = 420000.0\n",
            "Total harga setelah diskon = 780000.0\n"
          ]
        }
      ]
    },
    {
      "cell_type": "code",
      "source": [
        "def cek_tahun_kabisat(tahun):\n",
        "    # logika tahun kabisat\n",
        "    if (tahun % 4 == 0 and tahun % 100 != 0) or (tahun % 400 == 0):\n",
        "        return True\n",
        "    else:\n",
        "        return False\n",
        "\n",
        "# Input dari user\n",
        "tahun = int(input(\"Masukkan tahun: \"))\n",
        "\n",
        "# Output hasil\n",
        "if cek_tahun_kabisat(tahun):\n",
        "    print(f\"{tahun} adalah tahun kabisat.\")\n",
        "else:\n",
        "    print(f\"{tahun} bukan tahun kabisat.\")\n"
      ],
      "metadata": {
        "colab": {
          "base_uri": "https://localhost:8080/"
        },
        "id": "uVKRNqN1gms4",
        "outputId": "d1409206-6cba-406f-c41c-5fe9110c3acf"
      },
      "execution_count": null,
      "outputs": [
        {
          "output_type": "stream",
          "name": "stdout",
          "text": [
            "Masukkan tahun: 2025\n",
            "2025 bukan tahun kabisat.\n"
          ]
        }
      ]
    },
    {
      "cell_type": "code",
      "source": [
        "# Program Kasir Sederhana\n",
        "\n",
        "# Input jumlah item\n",
        "jumlah_item = int(input(\"Masukkan jumlah item yang dibeli: \"))\n",
        "subtotal = 0\n",
        "\n",
        "# Input harga tiap item\n",
        "for i in range(jumlah_item):\n",
        "    harga = int(input(f\"Masukkan harga item ke-{i+1}: \"))\n",
        "    subtotal += harga\n",
        "\n",
        "# Input status member\n",
        "is_member = input(\"Apakah pelanggan member? (ya/tidak): \").lower() == \"ya\"\n",
        "\n",
        "# Hitung Diskon\n",
        "if is_member and subtotal > 100000:\n",
        "    diskon = 0.15 * subtotal\n",
        "else:\n",
        "    diskon = 0\n",
        "\n",
        "# Harga setelah diskon\n",
        "harga_setelah_diskon = subtotal - diskon\n",
        "\n",
        "# Hitung PPN (11%)\n",
        "ppn = 0.11 * harga_setelah_diskon\n",
        "\n",
        "# Hitung total akhir\n",
        "total_akhir = harga_setelah_diskon + ppn\n",
        "\n",
        "# Cetak Struk Belanja\n",
        "print(\"\\n===== Struk Belanja =====\")\n",
        "print(\"Subtotal             : Rp\", subtotal)\n",
        "print(\"Diskon (15%)         : Rp\", int(diskon))\n",
        "print(\"Harga Setelah Diskon : Rp\", int(harga_setelah_diskon))\n",
        "print(\"PPN (11%)            : Rp\", round(ppn, 2))\n",
        "print(\"-------------------------------\")\n",
        "print(\"Total Akhir          : Rp\", round(total_akhir, 2))\n"
      ],
      "metadata": {
        "colab": {
          "base_uri": "https://localhost:8080/"
        },
        "id": "sG-_Wiwpivzg",
        "outputId": "2289e628-d4f7-48b3-e1e3-65262e71c9e9"
      },
      "execution_count": null,
      "outputs": [
        {
          "output_type": "stream",
          "name": "stdout",
          "text": [
            "Masukkan jumlah item yang dibeli: 1\n",
            "Masukkan harga item ke-1: 120000\n",
            "Apakah pelanggan member? (ya/tidak): Ya\n",
            "\n",
            "===== Struk Belanja =====\n",
            "Subtotal             : Rp 120000\n",
            "Diskon (15%)         : Rp 18000\n",
            "Harga Setelah Diskon : Rp 102000\n",
            "PPN (11%)            : Rp 11220.0\n",
            "-------------------------------\n",
            "Total Akhir          : Rp 113220.0\n"
          ]
        }
      ]
    }
  ]
}