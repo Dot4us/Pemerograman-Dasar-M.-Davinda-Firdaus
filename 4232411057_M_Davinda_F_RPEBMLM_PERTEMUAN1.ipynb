{
  "nbformat": 4,
  "nbformat_minor": 0,
  "metadata": {
    "colab": {
      "provenance": [],
      "authorship_tag": "ABX9TyP38y4szp+S7UrpRHcSEDPs",
      "include_colab_link": true
    },
    "kernelspec": {
      "name": "python3",
      "display_name": "Python 3"
    },
    "language_info": {
      "name": "python"
    }
  },
  "cells": [
    {
      "cell_type": "markdown",
      "metadata": {
        "id": "view-in-github",
        "colab_type": "text"
      },
      "source": [
        "<a href=\"https://colab.research.google.com/github/Dot4us/Pemograman-Dasar-M.-Davinda-Firdaus/blob/main/4232411057_M_Davinda_F_RPEBMLM_PERTEMUAN1.ipynb\" target=\"_parent\"><img src=\"https://colab.research.google.com/assets/colab-badge.svg\" alt=\"Open In Colab\"/></a>"
      ]
    },
    {
      "cell_type": "code",
      "execution_count": null,
      "metadata": {
        "id": "PO6-LRt3Z0cA",
        "colab": {
          "base_uri": "https://localhost:8080/"
        },
        "outputId": "e9a8e3ed-9661-412a-99f4-91cb63adf3c9"
      },
      "outputs": [
        {
          "output_type": "stream",
          "name": "stdout",
          "text": [
            "Nama                 = Muhammad Davinda Firdaus\n",
            "Umur                 = 20 Tahun\n",
            "Asal                 = Batam\n",
            "Tempat Tanggal Lahir = Batam, 25 Januari 2005\n",
            "Alamat               = Perum. Taman Lestari Blok D25 No. 28, Batu Aji, Kota Batam\n",
            "Jurusan              = TRPE\n",
            "Semester             = 3\n",
            "Mata kuliah          = Pemerograman Dasar\n",
            "Status Mahasiswa     = Aktif\n",
            "Status Lulus         = False\n",
            "Hobi                 = Bersepeda\n"
          ]
        }
      ],
      "source": [
        "Nama = \"Muhammad Davinda Firdaus\"\n",
        "Umur = 20\n",
        "Asal = \"Batam\"\n",
        "Tempat_Tanggal_Lahir = \"Batam, 25 Januari 2005\"\n",
        "Alamat = \"Perum. Taman Lestari Blok D25 No. 28, Batu Aji, Kota Batam\"\n",
        "Jurusan = \"TRPE\"\n",
        "Semester = 3\n",
        "Matakuliah = \"Pemerograman Dasar\"\n",
        "Status_Mahasiswa = \"Aktif\"\n",
        "Status_lulus = False\n",
        "Hobi = \"Bersepeda\"\n",
        "\n",
        "\n",
        "\n",
        "print(\"Nama                 =\",Nama)\n",
        "print(\"Umur                 =\",Umur,\"Tahun\")\n",
        "print(\"Asal                 =\",Asal)\n",
        "print(\"Tempat Tanggal Lahir =\",Tempat_Tanggal_Lahir)\n",
        "print(\"Alamat               =\",Alamat)\n",
        "print(\"Jurusan              =\",Jurusan)\n",
        "print(\"Semester             =\",Semester)\n",
        "print(\"Mata kuliah          =\",Matakuliah)\n",
        "print(\"Status Mahasiswa     =\",Status_Mahasiswa)\n",
        "print(\"Status Lulus         =\",Status_lulus)\n",
        "print(\"Hobi                 =\",Hobi)\n",
        "\n"
      ]
    }
  ]
}